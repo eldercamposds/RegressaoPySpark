{
  "nbformat": 4,
  "nbformat_minor": 0,
  "metadata": {
    "colab": {
      "provenance": [],
      "mount_file_id": "1fRxh8mdfWSkR9AESqthu3lx0ONJzQr49",
      "authorship_tag": "ABX9TyOkK7wexRKYztxJ6Z4P7dWk",
      "include_colab_link": true
    },
    "kernelspec": {
      "name": "python3",
      "display_name": "Python 3"
    },
    "language_info": {
      "name": "python"
    }
  },
  "cells": [
    {
      "cell_type": "markdown",
      "metadata": {
        "id": "view-in-github",
        "colab_type": "text"
      },
      "source": [
        "<a href=\"https://colab.research.google.com/github/eldercamposds/RegressaoPySpark/blob/main/ClassificacaoPySpark.ipynb\" target=\"_parent\"><img src=\"https://colab.research.google.com/assets/colab-badge.svg\" alt=\"Open In Colab\"/></a>"
      ]
    },
    {
      "cell_type": "code",
      "execution_count": 1,
      "metadata": {
        "colab": {
          "base_uri": "https://localhost:8080/"
        },
        "id": "JgoIZ3sToy9N",
        "outputId": "9d411e4f-104f-497a-d534-fb36142c34b3"
      },
      "outputs": [
        {
          "output_type": "stream",
          "name": "stdout",
          "text": [
            "Requirement already satisfied: pyspark in /usr/local/lib/python3.11/dist-packages (3.5.5)\n",
            "Requirement already satisfied: py4j==0.10.9.7 in /usr/local/lib/python3.11/dist-packages (from pyspark) (0.10.9.7)\n"
          ]
        }
      ],
      "source": [
        "!pip install pyspark"
      ]
    },
    {
      "cell_type": "code",
      "source": [
        "# Criand uma sessão Spark\n",
        "from pyspark.sql import SparkSession\n",
        "\n",
        "spark = SparkSession.builder \\\n",
        "    .appName(\"Classificação com Spark\")\\\n",
        "    .config(\"spark.ui.port\", \"4050\")\\\n",
        "    .getOrCreate()\n",
        "\n",
        "# Verificando sessão Spark\n",
        "print(spark.version)\n"
      ],
      "metadata": {
        "colab": {
          "base_uri": "https://localhost:8080/"
        },
        "id": "S3Hdxqalq7Vd",
        "outputId": "b10d573c-5277-4961-c1bd-a3d15b8d22a3"
      },
      "execution_count": 4,
      "outputs": [
        {
          "output_type": "stream",
          "name": "stdout",
          "text": [
            "3.5.5\n"
          ]
        }
      ]
    },
    {
      "cell_type": "code",
      "source": [
        "from pyspark.ml.feature import RFormula\n",
        "from pyspark.ml.classification import DecisionTreeClassifier\n",
        "from pyspark.ml.evaluation import BinaryClassificationEvaluator"
      ],
      "metadata": {
        "id": "p-MoUAkopEyW"
      },
      "execution_count": 2,
      "outputs": []
    },
    {
      "cell_type": "code",
      "source": [
        "churndata = spark.read.csv(\"/content/drive/MyDrive/Colab Notebooks/PySpark/Spark/download/Churn.csv\", header=True, inferSchema=True, sep=\";\")"
      ],
      "metadata": {
        "id": "UxjyDgfZqwRo"
      },
      "execution_count": 7,
      "outputs": []
    },
    {
      "cell_type": "code",
      "source": [
        "churndata.show(3)"
      ],
      "metadata": {
        "colab": {
          "base_uri": "https://localhost:8080/"
        },
        "id": "ku3tKDWbvVCX",
        "outputId": "e05f9998-b091-4d5b-cc10-913cd5a732dc"
      },
      "execution_count": 8,
      "outputs": [
        {
          "output_type": "stream",
          "name": "stdout",
          "text": [
            "+-----------+---------+------+---+------+-------+-------------+---------+--------------+---------------+------+\n",
            "|CreditScore|Geography|Gender|Age|Tenure|Balance|NumOfProducts|HasCrCard|IsActiveMember|EstimatedSalary|Exited|\n",
            "+-----------+---------+------+---+------+-------+-------------+---------+--------------+---------------+------+\n",
            "|        619|   France|Female| 42|     2|      0|            1|        1|             1|       10134888|     1|\n",
            "|        608|    Spain|Female| 41|     1|8380786|            1|        0|             1|       11254258|     0|\n",
            "|        502|   France|Female| 42|     8|1596608|            3|        1|             0|       11393157|     1|\n",
            "+-----------+---------+------+---+------+-------+-------------+---------+--------------+---------------+------+\n",
            "only showing top 3 rows\n",
            "\n"
          ]
        }
      ]
    },
    {
      "cell_type": "code",
      "source": [
        "formula = RFormula(formula=\"Exited ~ .\", featuresCol=\"features\", labelCol=\"label\", handleInvalid=\"skip\")"
      ],
      "metadata": {
        "id": "cBJpuKzTvozu"
      },
      "execution_count": 9,
      "outputs": []
    },
    {
      "cell_type": "code",
      "source": [
        "churn_trans = formula.fit(churndata).transform(churndata).select(\"features\", \"label\")"
      ],
      "metadata": {
        "id": "1M5URifuz63J"
      },
      "execution_count": 11,
      "outputs": []
    },
    {
      "cell_type": "code",
      "source": [
        "churn_trans.show(3, truncate=False)"
      ],
      "metadata": {
        "colab": {
          "base_uri": "https://localhost:8080/"
        },
        "id": "6OJTdP7g6ir9",
        "outputId": "86cf1c4c-8ffe-4907-e245-8eda71341fed"
      },
      "execution_count": 15,
      "outputs": [
        {
          "output_type": "stream",
          "name": "stdout",
          "text": [
            "+--------------------------------------------------------------+-----+\n",
            "|features                                                      |label|\n",
            "+--------------------------------------------------------------+-----+\n",
            "|[619.0,1.0,0.0,0.0,42.0,2.0,0.0,1.0,1.0,1.0,1.0134888E7]      |1.0  |\n",
            "|[608.0,0.0,0.0,0.0,41.0,1.0,8380786.0,1.0,0.0,1.0,1.1254258E7]|0.0  |\n",
            "|[502.0,1.0,0.0,0.0,42.0,8.0,1596608.0,3.0,1.0,0.0,1.1393157E7]|1.0  |\n",
            "+--------------------------------------------------------------+-----+\n",
            "only showing top 3 rows\n",
            "\n"
          ]
        }
      ]
    },
    {
      "cell_type": "code",
      "source": [
        "treino,teste = churn_trans.randomSplit([0.7,0.3], seed=123)"
      ],
      "metadata": {
        "id": "WXmvrSXT6ktN"
      },
      "execution_count": 16,
      "outputs": []
    },
    {
      "cell_type": "code",
      "source": [],
      "metadata": {
        "id": "y5ao5IQ0_7B-"
      },
      "execution_count": null,
      "outputs": []
    }
  ]
}