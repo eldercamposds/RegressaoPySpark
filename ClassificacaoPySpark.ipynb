{
  "nbformat": 4,
  "nbformat_minor": 0,
  "metadata": {
    "colab": {
      "provenance": [],
      "mount_file_id": "1fRxh8mdfWSkR9AESqthu3lx0ONJzQr49",
      "authorship_tag": "ABX9TyOZ01VUh7MsuPlh+kNBv6/a",
      "include_colab_link": true
    },
    "kernelspec": {
      "name": "python3",
      "display_name": "Python 3"
    },
    "language_info": {
      "name": "python"
    }
  },
  "cells": [
    {
      "cell_type": "markdown",
      "metadata": {
        "id": "view-in-github",
        "colab_type": "text"
      },
      "source": [
        "<a href=\"https://colab.research.google.com/github/eldercamposds/RegressaoPySpark/blob/main/ClassificacaoPySpark.ipynb\" target=\"_parent\"><img src=\"https://colab.research.google.com/assets/colab-badge.svg\" alt=\"Open In Colab\"/></a>"
      ]
    },
    {
      "cell_type": "code",
      "execution_count": 1,
      "metadata": {
        "colab": {
          "base_uri": "https://localhost:8080/"
        },
        "id": "JgoIZ3sToy9N",
        "outputId": "9d411e4f-104f-497a-d534-fb36142c34b3"
      },
      "outputs": [
        {
          "output_type": "stream",
          "name": "stdout",
          "text": [
            "Requirement already satisfied: pyspark in /usr/local/lib/python3.11/dist-packages (3.5.5)\n",
            "Requirement already satisfied: py4j==0.10.9.7 in /usr/local/lib/python3.11/dist-packages (from pyspark) (0.10.9.7)\n"
          ]
        }
      ],
      "source": [
        "!pip install pyspark"
      ]
    },
    {
      "cell_type": "code",
      "source": [
        "# Criand uma sessão Spark\n",
        "from pyspark.sql import SparkSession\n",
        "\n",
        "spark = SparkSession.builder \\\n",
        "    .appName(\"Classificação com Spark\")\\\n",
        "    .config(\"spark.ui.port\", \"4050\")\\\n",
        "    .getOrCreate()\n",
        "\n",
        "# Verificando sessão Spark\n",
        "print(spark.version)\n"
      ],
      "metadata": {
        "colab": {
          "base_uri": "https://localhost:8080/"
        },
        "id": "S3Hdxqalq7Vd",
        "outputId": "b10d573c-5277-4961-c1bd-a3d15b8d22a3"
      },
      "execution_count": 4,
      "outputs": [
        {
          "output_type": "stream",
          "name": "stdout",
          "text": [
            "3.5.5\n"
          ]
        }
      ]
    },
    {
      "cell_type": "code",
      "source": [
        "from pyspark.ml.feature import RFormula\n",
        "from pyspark.ml.classification import DecisionTreeClassifier\n",
        "from pyspark.ml.evaluation import BinaryClassificationEvaluator"
      ],
      "metadata": {
        "id": "p-MoUAkopEyW"
      },
      "execution_count": 2,
      "outputs": []
    },
    {
      "cell_type": "code",
      "source": [
        "churndata = spark.read.csv(\"/content/drive/MyDrive/Colab Notebooks/PySpark/Spark/download/Churn.csv\", header=True, inferSchema=True, sep=\";\")"
      ],
      "metadata": {
        "id": "UxjyDgfZqwRo"
      },
      "execution_count": 7,
      "outputs": []
    },
    {
      "cell_type": "code",
      "source": [
        "churndata.show(3)"
      ],
      "metadata": {
        "colab": {
          "base_uri": "https://localhost:8080/"
        },
        "id": "ku3tKDWbvVCX",
        "outputId": "e05f9998-b091-4d5b-cc10-913cd5a732dc"
      },
      "execution_count": 8,
      "outputs": [
        {
          "output_type": "stream",
          "name": "stdout",
          "text": [
            "+-----------+---------+------+---+------+-------+-------------+---------+--------------+---------------+------+\n",
            "|CreditScore|Geography|Gender|Age|Tenure|Balance|NumOfProducts|HasCrCard|IsActiveMember|EstimatedSalary|Exited|\n",
            "+-----------+---------+------+---+------+-------+-------------+---------+--------------+---------------+------+\n",
            "|        619|   France|Female| 42|     2|      0|            1|        1|             1|       10134888|     1|\n",
            "|        608|    Spain|Female| 41|     1|8380786|            1|        0|             1|       11254258|     0|\n",
            "|        502|   France|Female| 42|     8|1596608|            3|        1|             0|       11393157|     1|\n",
            "+-----------+---------+------+---+------+-------+-------------+---------+--------------+---------------+------+\n",
            "only showing top 3 rows\n",
            "\n"
          ]
        }
      ]
    },
    {
      "cell_type": "code",
      "source": [
        "formula = RFormula(formula=\"Exited ~ .\", featuresCol=\"features\", labelCol=\"label\", handleInvalid=\"skip\")"
      ],
      "metadata": {
        "id": "cBJpuKzTvozu"
      },
      "execution_count": 9,
      "outputs": []
    },
    {
      "cell_type": "code",
      "source": [
        "churn_trans = formula.fit(churndata).transform(churndata).select(\"features\", \"label\")"
      ],
      "metadata": {
        "id": "1M5URifuz63J"
      },
      "execution_count": 11,
      "outputs": []
    },
    {
      "cell_type": "code",
      "source": [
        "churn_trans.show(3, truncate=False)"
      ],
      "metadata": {
        "colab": {
          "base_uri": "https://localhost:8080/"
        },
        "id": "6OJTdP7g6ir9",
        "outputId": "86cf1c4c-8ffe-4907-e245-8eda71341fed"
      },
      "execution_count": 15,
      "outputs": [
        {
          "output_type": "stream",
          "name": "stdout",
          "text": [
            "+--------------------------------------------------------------+-----+\n",
            "|features                                                      |label|\n",
            "+--------------------------------------------------------------+-----+\n",
            "|[619.0,1.0,0.0,0.0,42.0,2.0,0.0,1.0,1.0,1.0,1.0134888E7]      |1.0  |\n",
            "|[608.0,0.0,0.0,0.0,41.0,1.0,8380786.0,1.0,0.0,1.0,1.1254258E7]|0.0  |\n",
            "|[502.0,1.0,0.0,0.0,42.0,8.0,1596608.0,3.0,1.0,0.0,1.1393157E7]|1.0  |\n",
            "+--------------------------------------------------------------+-----+\n",
            "only showing top 3 rows\n",
            "\n"
          ]
        }
      ]
    },
    {
      "cell_type": "code",
      "source": [
        "treino,teste = churn_trans.randomSplit([0.7,0.3], seed=123)"
      ],
      "metadata": {
        "id": "WXmvrSXT6ktN"
      },
      "execution_count": 16,
      "outputs": []
    },
    {
      "cell_type": "code",
      "source": [
        "treino.count()"
      ],
      "metadata": {
        "colab": {
          "base_uri": "https://localhost:8080/"
        },
        "id": "y5ao5IQ0_7B-",
        "outputId": "6f5fbcd7-0f89-4f62-9109-ff6291a1fa9b"
      },
      "execution_count": 18,
      "outputs": [
        {
          "output_type": "execute_result",
          "data": {
            "text/plain": [
              "6934"
            ]
          },
          "metadata": {},
          "execution_count": 18
        }
      ]
    },
    {
      "cell_type": "code",
      "source": [
        "teste.count()"
      ],
      "metadata": {
        "colab": {
          "base_uri": "https://localhost:8080/"
        },
        "id": "_B-5HcmCAH-P",
        "outputId": "341e48d9-26a2-44ad-a3cd-639ca8c3bbe0"
      },
      "execution_count": 19,
      "outputs": [
        {
          "output_type": "execute_result",
          "data": {
            "text/plain": [
              "3066"
            ]
          },
          "metadata": {},
          "execution_count": 19
        }
      ]
    },
    {
      "cell_type": "code",
      "source": [
        "dt = DecisionTreeClassifier(labelCol=\"label\", featuresCol=\"features\")"
      ],
      "metadata": {
        "id": "G8QffF2yAL8D"
      },
      "execution_count": 20,
      "outputs": []
    },
    {
      "cell_type": "code",
      "source": [
        "modelo = dt.fit(treino)"
      ],
      "metadata": {
        "id": "P4svY0-kAq9O"
      },
      "execution_count": 21,
      "outputs": []
    },
    {
      "cell_type": "code",
      "source": [
        "previsao = modelo.transform(teste)"
      ],
      "metadata": {
        "id": "Liu6O1SzAw_o"
      },
      "execution_count": 22,
      "outputs": []
    },
    {
      "cell_type": "code",
      "source": [
        "previsao.show(truncate=False)"
      ],
      "metadata": {
        "colab": {
          "base_uri": "https://localhost:8080/"
        },
        "id": "7lhJa9DRA88i",
        "outputId": "5976e94f-79b5-43bc-8dca-b1aadfdebc77"
      },
      "execution_count": 24,
      "outputs": [
        {
          "output_type": "stream",
          "name": "stdout",
          "text": [
            "+--------------------------------------------------------+-----+--------------+----------------------------------------+----------+\n",
            "|features                                                |label|rawPrediction |probability                             |prediction|\n",
            "+--------------------------------------------------------+-----+--------------+----------------------------------------+----------+\n",
            "|(11,[0,1,3,4,7,10],[642.0,1.0,1.0,26.0,1.0,4747268.0])  |0.0  |[4305.0,486.0]|[0.8985597996242956,0.10144020037570445]|0.0       |\n",
            "|(11,[0,1,4,5,7,10],[350.0,1.0,60.0,3.0,1.0,1.1379615E7])|1.0  |[36.0,238.0]  |[0.13138686131386862,0.8686131386861314]|1.0       |\n",
            "|(11,[0,1,4,5,7,10],[449.0,1.0,21.0,7.0,2.0,1.7574392E7])|0.0  |[4305.0,486.0]|[0.8985597996242956,0.10144020037570445]|0.0       |\n",
            "|(11,[0,1,4,5,7,10],[476.0,1.0,40.0,4.0,2.0,1.8254704E7])|0.0  |[4305.0,486.0]|[0.8985597996242956,0.10144020037570445]|0.0       |\n",
            "|(11,[0,1,4,5,7,10],[480.0,1.0,28.0,6.0,2.0,4813192.0])  |0.0  |[4305.0,486.0]|[0.8985597996242956,0.10144020037570445]|0.0       |\n",
            "|(11,[0,1,4,5,7,10],[501.0,1.0,40.0,2.0,2.0,1.4194692E7])|0.0  |[4305.0,486.0]|[0.8985597996242956,0.10144020037570445]|0.0       |\n",
            "|(11,[0,1,4,5,7,10],[523.0,1.0,73.0,7.0,2.0,1308839.0])  |1.0  |[4.0,17.0]    |[0.19047619047619047,0.8095238095238095]|1.0       |\n",
            "|(11,[0,1,4,5,7,10],[543.0,1.0,42.0,5.0,2.0,1.0190534E7])|0.0  |[4305.0,486.0]|[0.8985597996242956,0.10144020037570445]|0.0       |\n",
            "|(11,[0,1,4,5,7,10],[545.0,1.0,55.0,5.0,1.0,1003477.0])  |1.0  |[36.0,238.0]  |[0.13138686131386862,0.8686131386861314]|1.0       |\n",
            "|(11,[0,1,4,5,7,10],[549.0,1.0,25.0,5.0,2.0,1.9085779E7])|0.0  |[4305.0,486.0]|[0.8985597996242956,0.10144020037570445]|0.0       |\n",
            "|(11,[0,1,4,5,7,10],[549.0,1.0,34.0,4.0,2.0,1.3946357E7])|0.0  |[4305.0,486.0]|[0.8985597996242956,0.10144020037570445]|0.0       |\n",
            "|(11,[0,1,4,5,7,10],[553.0,1.0,27.0,3.0,2.0,1.5980016E7])|0.0  |[4305.0,486.0]|[0.8985597996242956,0.10144020037570445]|0.0       |\n",
            "|(11,[0,1,4,5,7,10],[557.0,1.0,24.0,4.0,1.0,2051572.0])  |0.0  |[4305.0,486.0]|[0.8985597996242956,0.10144020037570445]|0.0       |\n",
            "|(11,[0,1,4,5,7,10],[564.0,1.0,27.0,6.0,1.0,781976.0])   |0.0  |[4305.0,486.0]|[0.8985597996242956,0.10144020037570445]|0.0       |\n",
            "|(11,[0,1,4,5,7,10],[571.0,1.0,47.0,7.0,2.0,1.1236698E7])|0.0  |[170.0,46.0]  |[0.7870370370370371,0.21296296296296297]|0.0       |\n",
            "|(11,[0,1,4,5,7,10],[578.0,1.0,40.0,7.0,2.0,1.0223373E7])|0.0  |[4305.0,486.0]|[0.8985597996242956,0.10144020037570445]|0.0       |\n",
            "|(11,[0,1,4,5,7,10],[605.0,1.0,28.0,6.0,2.0,1.5950852E7])|0.0  |[4305.0,486.0]|[0.8985597996242956,0.10144020037570445]|0.0       |\n",
            "|(11,[0,1,4,5,7,10],[612.0,1.0,33.0,9.0,1.0,1427975.0])  |1.0  |[4305.0,486.0]|[0.8985597996242956,0.10144020037570445]|0.0       |\n",
            "|(11,[0,1,4,5,7,10],[618.0,1.0,42.0,2.0,4.0,1.1109739E7])|1.0  |[10.0,12.0]   |[0.45454545454545453,0.5454545454545454]|1.0       |\n",
            "|(11,[0,1,4,5,7,10],[619.0,1.0,48.0,4.0,1.0,1809496.0])  |1.0  |[148.0,209.0] |[0.41456582633053224,0.5854341736694678]|1.0       |\n",
            "+--------------------------------------------------------+-----+--------------+----------------------------------------+----------+\n",
            "only showing top 20 rows\n",
            "\n"
          ]
        }
      ]
    },
    {
      "cell_type": "code",
      "source": [
        "avaliar = BinaryClassificationEvaluator(rawPredictionCol=\"prediction\", labelCol=\"label\", metricName=\"areaUnderROC\")"
      ],
      "metadata": {
        "id": "KglEZaMyBAQH"
      },
      "execution_count": 25,
      "outputs": []
    },
    {
      "cell_type": "code",
      "source": [],
      "metadata": {
        "id": "BLNjOm2EH5ow"
      },
      "execution_count": null,
      "outputs": []
    }
  ]
}