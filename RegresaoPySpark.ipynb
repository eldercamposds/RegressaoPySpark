{
  "nbformat": 4,
  "nbformat_minor": 0,
  "metadata": {
    "colab": {
      "provenance": [],
      "mount_file_id": "1-btCwX885btqOOHy1engT7Vs7iWFXv2K",
      "authorship_tag": "ABX9TyOj0pmmZzZOqlAE2oGq3Dph",
      "include_colab_link": true
    },
    "kernelspec": {
      "name": "python3",
      "display_name": "Python 3"
    },
    "language_info": {
      "name": "python"
    }
  },
  "cells": [
    {
      "cell_type": "markdown",
      "metadata": {
        "id": "view-in-github",
        "colab_type": "text"
      },
      "source": [
        "<a href=\"https://colab.research.google.com/github/eldercamposds/RegressaoPySpark/blob/main/RegresaoPySpark.ipynb\" target=\"_parent\"><img src=\"https://colab.research.google.com/assets/colab-badge.svg\" alt=\"Open In Colab\"/></a>"
      ]
    },
    {
      "cell_type": "code",
      "execution_count": null,
      "metadata": {
        "colab": {
          "base_uri": "https://localhost:8080/"
        },
        "id": "_ETG6eFYa5Qo",
        "outputId": "a01d238f-779d-40e7-dac2-1c0d59bde218"
      },
      "outputs": [
        {
          "output_type": "stream",
          "name": "stdout",
          "text": [
            "Requirement already satisfied: pyspark in /usr/local/lib/python3.11/dist-packages (3.5.5)\n",
            "Requirement already satisfied: py4j==0.10.9.7 in /usr/local/lib/python3.11/dist-packages (from pyspark) (0.10.9.7)\n"
          ]
        }
      ],
      "source": [
        "!pip install pyspark\n"
      ]
    },
    {
      "cell_type": "code",
      "source": [
        "from pyspark.sql import SparkSession\n",
        "\n",
        "# Criand uma sessão Spark\n",
        "spark = SparkSession.builder \\\n",
        "    .appName(\"Regressao\") \\\n",
        "    .getOrCreate()\n",
        "\n",
        "# Verificando sessão Spark\n",
        "print(spark.version)\n"
      ],
      "metadata": {
        "colab": {
          "base_uri": "https://localhost:8080/"
        },
        "id": "r4arFYi3bCQl",
        "outputId": "659a3365-3317-407d-dbdf-067dda8d4163"
      },
      "execution_count": 3,
      "outputs": [
        {
          "output_type": "stream",
          "name": "stdout",
          "text": [
            "3.5.5\n"
          ]
        }
      ]
    },
    {
      "cell_type": "code",
      "source": [
        "from pyspark.ml.regression import LinearRegression, RandomForestRegressor"
      ],
      "metadata": {
        "id": "QJ2-_DWubG6z"
      },
      "execution_count": 4,
      "outputs": []
    },
    {
      "cell_type": "code",
      "source": [
        "from pyspark.ml.evaluation import RegressionEvaluator"
      ],
      "metadata": {
        "id": "BDvoZFlEcEKQ"
      },
      "execution_count": 5,
      "outputs": []
    },
    {
      "cell_type": "code",
      "source": [
        "from pyspark.ml.feature import VectorAssembler #oneHotEcoder"
      ],
      "metadata": {
        "id": "PXypGFAKcK_g"
      },
      "execution_count": 6,
      "outputs": []
    },
    {
      "cell_type": "code",
      "source": [
        "carros =  spark.read.csv(\"/content/drive/MyDrive/Colab Notebooks/PySpark/Spark/download/Carros.csv\", header=True, inferSchema=True, sep=\";\")"
      ],
      "metadata": {
        "id": "CcvEMK-BcZMc"
      },
      "execution_count": 11,
      "outputs": []
    },
    {
      "cell_type": "code",
      "source": [
        "carros.show(5)"
      ],
      "metadata": {
        "colab": {
          "base_uri": "https://localhost:8080/"
        },
        "id": "8WaylM1udFgA",
        "outputId": "4a68421b-3b3a-4524-c505-437d470c8b9e"
      },
      "execution_count": 12,
      "outputs": [
        {
          "output_type": "stream",
          "name": "stdout",
          "text": [
            "+-------+---------+-----------+---------------+----+-----+---------+-----------+-------+-----------+---+\n",
            "|Consumo|Cilindros|Cilindradas|RelEixoTraseiro|Peso|Tempo|TipoMotor|Transmissao|Marchas|Carburadors| HP|\n",
            "+-------+---------+-----------+---------------+----+-----+---------+-----------+-------+-----------+---+\n",
            "|     21|        6|        160|             39| 262| 1646|        0|          1|      4|          4|110|\n",
            "|     21|        6|        160|             39|2875| 1702|        0|          1|      4|          4|110|\n",
            "|    228|        4|        108|            385| 232| 1861|        1|          1|      4|          1| 93|\n",
            "|    214|        6|        258|            308|3215| 1944|        1|          0|      3|          1|110|\n",
            "|    187|        8|        360|            315| 344| 1702|        0|          0|      3|          2|175|\n",
            "+-------+---------+-----------+---------------+----+-----+---------+-----------+-------+-----------+---+\n",
            "only showing top 5 rows\n",
            "\n"
          ]
        }
      ]
    },
    {
      "cell_type": "code",
      "source": [
        "carros_2 = carros.select(\"Consumo\", \"Cilindros\", \"Cilindradas\", \"HP\")"
      ],
      "metadata": {
        "id": "KViPweVLfUEM"
      },
      "execution_count": 13,
      "outputs": []
    },
    {
      "cell_type": "code",
      "source": [
        "carros_2.show(5)"
      ],
      "metadata": {
        "colab": {
          "base_uri": "https://localhost:8080/"
        },
        "id": "Ux9cvn6HfmZF",
        "outputId": "49724263-c7e5-4bad-be7b-0c71c9493d59"
      },
      "execution_count": 14,
      "outputs": [
        {
          "output_type": "stream",
          "name": "stdout",
          "text": [
            "+-------+---------+-----------+---+\n",
            "|Consumo|Cilindros|Cilindradas| HP|\n",
            "+-------+---------+-----------+---+\n",
            "|     21|        6|        160|110|\n",
            "|     21|        6|        160|110|\n",
            "|    228|        4|        108| 93|\n",
            "|    214|        6|        258|110|\n",
            "|    187|        8|        360|175|\n",
            "+-------+---------+-----------+---+\n",
            "only showing top 5 rows\n",
            "\n"
          ]
        }
      ]
    },
    {
      "cell_type": "code",
      "source": [
        "vec_caracteristicas = VectorAssembler(inputCols=[\"Consumo\", \"Cilindros\", \"Cilindradas\"], outputCol=\"caracteristicas\")"
      ],
      "metadata": {
        "id": "qh0g5d5dfnem"
      },
      "execution_count": 17,
      "outputs": []
    },
    {
      "cell_type": "code",
      "source": [
        "carros_2 = vec_caracteristicas.transform(carros_2)"
      ],
      "metadata": {
        "id": "V2v_cwACgOQV"
      },
      "execution_count": 18,
      "outputs": []
    },
    {
      "cell_type": "code",
      "source": [
        "carros_2.show(5)"
      ],
      "metadata": {
        "colab": {
          "base_uri": "https://localhost:8080/"
        },
        "id": "sIJVHkWAgmU5",
        "outputId": "bdf053e8-6f9c-4c63-df9c-8545066a5370"
      },
      "execution_count": 19,
      "outputs": [
        {
          "output_type": "stream",
          "name": "stdout",
          "text": [
            "+-------+---------+-----------+---+-----------------+\n",
            "|Consumo|Cilindros|Cilindradas| HP|  caracteristicas|\n",
            "+-------+---------+-----------+---+-----------------+\n",
            "|     21|        6|        160|110| [21.0,6.0,160.0]|\n",
            "|     21|        6|        160|110| [21.0,6.0,160.0]|\n",
            "|    228|        4|        108| 93|[228.0,4.0,108.0]|\n",
            "|    214|        6|        258|110|[214.0,6.0,258.0]|\n",
            "|    187|        8|        360|175|[187.0,8.0,360.0]|\n",
            "+-------+---------+-----------+---+-----------------+\n",
            "only showing top 5 rows\n",
            "\n"
          ]
        }
      ]
    },
    {
      "cell_type": "code",
      "source": [],
      "metadata": {
        "id": "YTGqg0iSgswt"
      },
      "execution_count": null,
      "outputs": []
    }
  ]
}