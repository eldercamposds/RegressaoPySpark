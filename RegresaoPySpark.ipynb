{
  "nbformat": 4,
  "nbformat_minor": 0,
  "metadata": {
    "colab": {
      "provenance": [],
      "mount_file_id": "1-btCwX885btqOOHy1engT7Vs7iWFXv2K",
      "authorship_tag": "ABX9TyNW2TdGxFrL0szIK3zz+P8o",
      "include_colab_link": true
    },
    "kernelspec": {
      "name": "python3",
      "display_name": "Python 3"
    },
    "language_info": {
      "name": "python"
    }
  },
  "cells": [
    {
      "cell_type": "markdown",
      "metadata": {
        "id": "view-in-github",
        "colab_type": "text"
      },
      "source": [
        "<a href=\"https://colab.research.google.com/github/eldercamposds/RegressaoPySpark/blob/main/RegresaoPySpark.ipynb\" target=\"_parent\"><img src=\"https://colab.research.google.com/assets/colab-badge.svg\" alt=\"Open In Colab\"/></a>"
      ]
    },
    {
      "cell_type": "code",
      "execution_count": null,
      "metadata": {
        "colab": {
          "base_uri": "https://localhost:8080/"
        },
        "id": "_ETG6eFYa5Qo",
        "outputId": "a01d238f-779d-40e7-dac2-1c0d59bde218"
      },
      "outputs": [
        {
          "output_type": "stream",
          "name": "stdout",
          "text": [
            "Requirement already satisfied: pyspark in /usr/local/lib/python3.11/dist-packages (3.5.5)\n",
            "Requirement already satisfied: py4j==0.10.9.7 in /usr/local/lib/python3.11/dist-packages (from pyspark) (0.10.9.7)\n"
          ]
        }
      ],
      "source": [
        "!pip install pyspark\n"
      ]
    },
    {
      "cell_type": "code",
      "source": [
        "from pyspark.sql import SparkSession\n",
        "\n",
        "# Criand uma sessão Spark\n",
        "spark = SparkSession.builder \\\n",
        "    .appName(\"Regressao\") \\\n",
        "    .getOrCreate()\n",
        "\n",
        "# Verificando sessão Spark\n",
        "print(spark.version)\n"
      ],
      "metadata": {
        "colab": {
          "base_uri": "https://localhost:8080/"
        },
        "id": "r4arFYi3bCQl",
        "outputId": "659a3365-3317-407d-dbdf-067dda8d4163"
      },
      "execution_count": 3,
      "outputs": [
        {
          "output_type": "stream",
          "name": "stdout",
          "text": [
            "3.5.5\n"
          ]
        }
      ]
    },
    {
      "cell_type": "code",
      "source": [
        "from pyspark.ml.regression import LinearRegression, RandomForestRegressor"
      ],
      "metadata": {
        "id": "QJ2-_DWubG6z"
      },
      "execution_count": 4,
      "outputs": []
    },
    {
      "cell_type": "code",
      "source": [
        "from pyspark.ml.evaluation import RegressionEvaluator"
      ],
      "metadata": {
        "id": "BDvoZFlEcEKQ"
      },
      "execution_count": 5,
      "outputs": []
    },
    {
      "cell_type": "code",
      "source": [
        "from pyspark.ml.feature import VectorAssembler #oneHotEcoder"
      ],
      "metadata": {
        "id": "PXypGFAKcK_g"
      },
      "execution_count": 6,
      "outputs": []
    },
    {
      "cell_type": "code",
      "source": [
        "carros =  spark.read.csv(\"/content/drive/MyDrive/Colab Notebooks/PySpark/Spark/download/Carros.csv\", header=True, inferSchema=True, sep=\";\")"
      ],
      "metadata": {
        "id": "CcvEMK-BcZMc"
      },
      "execution_count": 11,
      "outputs": []
    },
    {
      "cell_type": "code",
      "source": [],
      "metadata": {
        "id": "8WaylM1udFgA"
      },
      "execution_count": null,
      "outputs": []
    }
  ]
}