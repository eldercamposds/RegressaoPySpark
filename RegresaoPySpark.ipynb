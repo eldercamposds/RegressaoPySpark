{
  "nbformat": 4,
  "nbformat_minor": 0,
  "metadata": {
    "colab": {
      "provenance": [],
      "mount_file_id": "1-btCwX885btqOOHy1engT7Vs7iWFXv2K",
      "authorship_tag": "ABX9TyPNkczImW3oleiRLozYgce1",
      "include_colab_link": true
    },
    "kernelspec": {
      "name": "python3",
      "display_name": "Python 3"
    },
    "language_info": {
      "name": "python"
    }
  },
  "cells": [
    {
      "cell_type": "markdown",
      "metadata": {
        "id": "view-in-github",
        "colab_type": "text"
      },
      "source": [
        "<a href=\"https://colab.research.google.com/github/eldercamposds/RegressaoPySpark/blob/main/RegresaoPySpark.ipynb\" target=\"_parent\"><img src=\"https://colab.research.google.com/assets/colab-badge.svg\" alt=\"Open In Colab\"/></a>"
      ]
    },
    {
      "cell_type": "code",
      "execution_count": null,
      "metadata": {
        "colab": {
          "base_uri": "https://localhost:8080/"
        },
        "id": "_ETG6eFYa5Qo",
        "outputId": "a01d238f-779d-40e7-dac2-1c0d59bde218"
      },
      "outputs": [
        {
          "output_type": "stream",
          "name": "stdout",
          "text": [
            "Requirement already satisfied: pyspark in /usr/local/lib/python3.11/dist-packages (3.5.5)\n",
            "Requirement already satisfied: py4j==0.10.9.7 in /usr/local/lib/python3.11/dist-packages (from pyspark) (0.10.9.7)\n"
          ]
        }
      ],
      "source": [
        "!pip install pyspark\n"
      ]
    },
    {
      "cell_type": "code",
      "source": [
        "from pyspark.sql import SparkSession\n",
        "\n",
        "# Criand uma sessão Spark\n",
        "spark = SparkSession.builder \\\n",
        "    .appName(\"Regressao\") \\\n",
        "    .getOrCreate()\n",
        "\n",
        "# Verificando sessão Spark\n",
        "print(spark.version)\n"
      ],
      "metadata": {
        "colab": {
          "base_uri": "https://localhost:8080/"
        },
        "id": "r4arFYi3bCQl",
        "outputId": "659a3365-3317-407d-dbdf-067dda8d4163"
      },
      "execution_count": 3,
      "outputs": [
        {
          "output_type": "stream",
          "name": "stdout",
          "text": [
            "3.5.5\n"
          ]
        }
      ]
    },
    {
      "cell_type": "markdown",
      "source": [
        "# Linear Regression"
      ],
      "metadata": {
        "id": "1klqSMAcjz-V"
      }
    },
    {
      "cell_type": "code",
      "source": [
        "from pyspark.ml.regression import LinearRegression, RandomForestRegressor"
      ],
      "metadata": {
        "id": "QJ2-_DWubG6z"
      },
      "execution_count": 4,
      "outputs": []
    },
    {
      "cell_type": "code",
      "source": [
        "from pyspark.ml.evaluation import RegressionEvaluator"
      ],
      "metadata": {
        "id": "BDvoZFlEcEKQ"
      },
      "execution_count": 5,
      "outputs": []
    },
    {
      "cell_type": "code",
      "source": [
        "from pyspark.ml.feature import VectorAssembler #oneHotEcoder"
      ],
      "metadata": {
        "id": "PXypGFAKcK_g"
      },
      "execution_count": 6,
      "outputs": []
    },
    {
      "cell_type": "code",
      "source": [
        "carros =  spark.read.csv(\"/content/drive/MyDrive/Colab Notebooks/PySpark/Spark/download/Carros.csv\", header=True, inferSchema=True, sep=\";\")"
      ],
      "metadata": {
        "id": "CcvEMK-BcZMc"
      },
      "execution_count": 11,
      "outputs": []
    },
    {
      "cell_type": "code",
      "source": [
        "carros.show(5)"
      ],
      "metadata": {
        "colab": {
          "base_uri": "https://localhost:8080/"
        },
        "id": "8WaylM1udFgA",
        "outputId": "4a68421b-3b3a-4524-c505-437d470c8b9e"
      },
      "execution_count": 12,
      "outputs": [
        {
          "output_type": "stream",
          "name": "stdout",
          "text": [
            "+-------+---------+-----------+---------------+----+-----+---------+-----------+-------+-----------+---+\n",
            "|Consumo|Cilindros|Cilindradas|RelEixoTraseiro|Peso|Tempo|TipoMotor|Transmissao|Marchas|Carburadors| HP|\n",
            "+-------+---------+-----------+---------------+----+-----+---------+-----------+-------+-----------+---+\n",
            "|     21|        6|        160|             39| 262| 1646|        0|          1|      4|          4|110|\n",
            "|     21|        6|        160|             39|2875| 1702|        0|          1|      4|          4|110|\n",
            "|    228|        4|        108|            385| 232| 1861|        1|          1|      4|          1| 93|\n",
            "|    214|        6|        258|            308|3215| 1944|        1|          0|      3|          1|110|\n",
            "|    187|        8|        360|            315| 344| 1702|        0|          0|      3|          2|175|\n",
            "+-------+---------+-----------+---------------+----+-----+---------+-----------+-------+-----------+---+\n",
            "only showing top 5 rows\n",
            "\n"
          ]
        }
      ]
    },
    {
      "cell_type": "code",
      "source": [
        "carros_2 = carros.select(\"Consumo\", \"Cilindros\", \"Cilindradas\", \"HP\")"
      ],
      "metadata": {
        "id": "KViPweVLfUEM"
      },
      "execution_count": 13,
      "outputs": []
    },
    {
      "cell_type": "code",
      "source": [
        "carros_2.show(5)"
      ],
      "metadata": {
        "colab": {
          "base_uri": "https://localhost:8080/"
        },
        "id": "Ux9cvn6HfmZF",
        "outputId": "49724263-c7e5-4bad-be7b-0c71c9493d59"
      },
      "execution_count": 14,
      "outputs": [
        {
          "output_type": "stream",
          "name": "stdout",
          "text": [
            "+-------+---------+-----------+---+\n",
            "|Consumo|Cilindros|Cilindradas| HP|\n",
            "+-------+---------+-----------+---+\n",
            "|     21|        6|        160|110|\n",
            "|     21|        6|        160|110|\n",
            "|    228|        4|        108| 93|\n",
            "|    214|        6|        258|110|\n",
            "|    187|        8|        360|175|\n",
            "+-------+---------+-----------+---+\n",
            "only showing top 5 rows\n",
            "\n"
          ]
        }
      ]
    },
    {
      "cell_type": "code",
      "source": [
        "vec_caracteristicas = VectorAssembler(inputCols=[\"Consumo\", \"Cilindros\", \"Cilindradas\"], outputCol=\"caracteristicas\")"
      ],
      "metadata": {
        "id": "qh0g5d5dfnem"
      },
      "execution_count": 17,
      "outputs": []
    },
    {
      "cell_type": "code",
      "source": [
        "carros_2 = vec_caracteristicas.transform(carros_2)"
      ],
      "metadata": {
        "id": "V2v_cwACgOQV"
      },
      "execution_count": 18,
      "outputs": []
    },
    {
      "cell_type": "code",
      "source": [
        "carros_2.show(5)"
      ],
      "metadata": {
        "colab": {
          "base_uri": "https://localhost:8080/"
        },
        "id": "sIJVHkWAgmU5",
        "outputId": "bdf053e8-6f9c-4c63-df9c-8545066a5370"
      },
      "execution_count": 19,
      "outputs": [
        {
          "output_type": "stream",
          "name": "stdout",
          "text": [
            "+-------+---------+-----------+---+-----------------+\n",
            "|Consumo|Cilindros|Cilindradas| HP|  caracteristicas|\n",
            "+-------+---------+-----------+---+-----------------+\n",
            "|     21|        6|        160|110| [21.0,6.0,160.0]|\n",
            "|     21|        6|        160|110| [21.0,6.0,160.0]|\n",
            "|    228|        4|        108| 93|[228.0,4.0,108.0]|\n",
            "|    214|        6|        258|110|[214.0,6.0,258.0]|\n",
            "|    187|        8|        360|175|[187.0,8.0,360.0]|\n",
            "+-------+---------+-----------+---+-----------------+\n",
            "only showing top 5 rows\n",
            "\n"
          ]
        }
      ]
    },
    {
      "cell_type": "code",
      "source": [
        "carros_2.count()"
      ],
      "metadata": {
        "colab": {
          "base_uri": "https://localhost:8080/"
        },
        "id": "5atNDzFzhe15",
        "outputId": "2a489a3b-e51b-4885-fc94-0147346a53eb"
      },
      "execution_count": 25,
      "outputs": [
        {
          "output_type": "execute_result",
          "data": {
            "text/plain": [
              "32"
            ]
          },
          "metadata": {},
          "execution_count": 25
        }
      ]
    },
    {
      "cell_type": "code",
      "source": [
        "treino, teste = carros_2.randomSplit([0.7, 0.3])"
      ],
      "metadata": {
        "id": "YTGqg0iSgswt"
      },
      "execution_count": 20,
      "outputs": []
    },
    {
      "cell_type": "code",
      "source": [
        "treino.count()"
      ],
      "metadata": {
        "colab": {
          "base_uri": "https://localhost:8080/"
        },
        "id": "uSouus8RhTYU",
        "outputId": "76dc4649-1efc-4b05-8079-f4652256250c"
      },
      "execution_count": 23,
      "outputs": [
        {
          "output_type": "execute_result",
          "data": {
            "text/plain": [
              "24"
            ]
          },
          "metadata": {},
          "execution_count": 23
        }
      ]
    },
    {
      "cell_type": "code",
      "source": [
        "teste.count()"
      ],
      "metadata": {
        "colab": {
          "base_uri": "https://localhost:8080/"
        },
        "id": "t_gtwgjphU1d",
        "outputId": "71e8aa37-b70e-44fe-88e4-f0f1fefe911a"
      },
      "execution_count": 24,
      "outputs": [
        {
          "output_type": "execute_result",
          "data": {
            "text/plain": [
              "8"
            ]
          },
          "metadata": {},
          "execution_count": 24
        }
      ]
    },
    {
      "cell_type": "code",
      "source": [
        "reglin =  LinearRegression(featuresCol=\"caracteristicas\", labelCol=\"HP\")"
      ],
      "metadata": {
        "id": "_dTdQtqphbj2"
      },
      "execution_count": 26,
      "outputs": []
    },
    {
      "cell_type": "code",
      "source": [
        "modelo = reglin.fit(treino)"
      ],
      "metadata": {
        "id": "xSFkfOP-iHKL"
      },
      "execution_count": 27,
      "outputs": []
    },
    {
      "cell_type": "code",
      "source": [
        "previsao = modelo.transform(teste)"
      ],
      "metadata": {
        "id": "MfMrnYJHiMDr"
      },
      "execution_count": 28,
      "outputs": []
    },
    {
      "cell_type": "code",
      "source": [
        "previsao.show(5)"
      ],
      "metadata": {
        "colab": {
          "base_uri": "https://localhost:8080/"
        },
        "id": "AvP-lJF8ilCF",
        "outputId": "e8e264a7-fe8a-4ab0-fe54-9ad010c3513c"
      },
      "execution_count": 29,
      "outputs": [
        {
          "output_type": "stream",
          "name": "stdout",
          "text": [
            "+-------+---------+-----------+---+-----------------+------------------+\n",
            "|Consumo|Cilindros|Cilindradas| HP|  caracteristicas|        prediction|\n",
            "+-------+---------+-----------+---+-----------------+------------------+\n",
            "|     26|        4|       1203| 91|[26.0,4.0,1203.0]| 104.4478729893712|\n",
            "|    104|        8|        472|205|[104.0,8.0,472.0]|197.57734027087264|\n",
            "|    133|        8|        350|245|[133.0,8.0,350.0]|193.57366951835417|\n",
            "|    147|        8|        440|230|[147.0,8.0,440.0]| 191.4651421908542|\n",
            "|    158|        8|        351|264|[158.0,8.0,351.0]| 189.9969294896363|\n",
            "+-------+---------+-----------+---+-----------------+------------------+\n",
            "only showing top 5 rows\n",
            "\n"
          ]
        }
      ]
    },
    {
      "cell_type": "code",
      "source": [
        "avaliar = RegressionEvaluator(predictionCol=\"prediction\", labelCol=\"HP\", metricName=\"rmse\")"
      ],
      "metadata": {
        "id": "l38D1OW8inbq"
      },
      "execution_count": 30,
      "outputs": []
    },
    {
      "cell_type": "code",
      "source": [
        "rmse = avaliar.evaluate(previsao)"
      ],
      "metadata": {
        "id": "GuGGutaqjZd1"
      },
      "execution_count": 31,
      "outputs": []
    },
    {
      "cell_type": "code",
      "source": [
        "print(rmse)"
      ],
      "metadata": {
        "colab": {
          "base_uri": "https://localhost:8080/"
        },
        "id": "7j9s7rGYjkxL",
        "outputId": "d7d71f6b-9612-4dd0-a844-fec3eb07fceb"
      },
      "execution_count": 34,
      "outputs": [
        {
          "output_type": "stream",
          "name": "stdout",
          "text": [
            "39.720096646998215\n"
          ]
        }
      ]
    },
    {
      "cell_type": "markdown",
      "source": [
        "# Radon Forest Regressor\n",
        "\n"
      ],
      "metadata": {
        "id": "6Ldi_YxKj3ZO"
      }
    },
    {
      "cell_type": "code",
      "source": [
        "rfreg = RandomForestRegressor(featuresCol=\"caracteristicas\", labelCol=\"HP\")"
      ],
      "metadata": {
        "id": "ZSdxDzCBjmVW"
      },
      "execution_count": 37,
      "outputs": []
    },
    {
      "cell_type": "code",
      "source": [
        "modelo2 = rfreg.fit(treino)"
      ],
      "metadata": {
        "id": "blRu7chxj9TM"
      },
      "execution_count": 38,
      "outputs": []
    },
    {
      "cell_type": "code",
      "source": [
        "previsao2 = modelo2.transform(teste)"
      ],
      "metadata": {
        "id": "blC3pIOkkAqm"
      },
      "execution_count": 41,
      "outputs": []
    },
    {
      "cell_type": "code",
      "source": [
        "previsao2.show(5)"
      ],
      "metadata": {
        "colab": {
          "base_uri": "https://localhost:8080/"
        },
        "id": "0mVGjhvDkK7K",
        "outputId": "5c80b0e4-33d5-4411-99f6-c00b041c8f17"
      },
      "execution_count": 42,
      "outputs": [
        {
          "output_type": "stream",
          "name": "stdout",
          "text": [
            "+-------+---------+-----------+---+-----------------+------------------+\n",
            "|Consumo|Cilindros|Cilindradas| HP|  caracteristicas|        prediction|\n",
            "+-------+---------+-----------+---+-----------------+------------------+\n",
            "|     26|        4|       1203| 91|[26.0,4.0,1203.0]| 132.3061111111111|\n",
            "|    104|        8|        472|205|[104.0,8.0,472.0]| 207.7607142857143|\n",
            "|    133|        8|        350|245|[133.0,8.0,350.0]| 212.5154761904762|\n",
            "|    147|        8|        440|230|[147.0,8.0,440.0]|203.33214285714286|\n",
            "|    158|        8|        351|264|[158.0,8.0,351.0]| 186.4529761904762|\n",
            "+-------+---------+-----------+---+-----------------+------------------+\n",
            "only showing top 5 rows\n",
            "\n"
          ]
        }
      ]
    },
    {
      "cell_type": "code",
      "source": [
        "rmse2 = avaliar.evaluate(previsao2)"
      ],
      "metadata": {
        "id": "vyVmijftkO8F"
      },
      "execution_count": 43,
      "outputs": []
    },
    {
      "cell_type": "code",
      "source": [
        "print(rmse2)"
      ],
      "metadata": {
        "colab": {
          "base_uri": "https://localhost:8080/"
        },
        "id": "Y93j791Mkipv",
        "outputId": "8d640f23-2b7e-46dc-9c6a-0e7f134e14ee"
      },
      "execution_count": 44,
      "outputs": [
        {
          "output_type": "stream",
          "name": "stdout",
          "text": [
            "42.923962070054976\n"
          ]
        }
      ]
    },
    {
      "cell_type": "code",
      "source": [
        "print(rmse)"
      ],
      "metadata": {
        "colab": {
          "base_uri": "https://localhost:8080/"
        },
        "id": "gdUK5-J4kkxy",
        "outputId": "56965796-6a89-4175-d703-0596a66f175d"
      },
      "execution_count": 45,
      "outputs": [
        {
          "output_type": "stream",
          "name": "stdout",
          "text": [
            "39.720096646998215\n"
          ]
        }
      ]
    },
    {
      "cell_type": "code",
      "source": [],
      "metadata": {
        "id": "LuTg54Nzkmid"
      },
      "execution_count": null,
      "outputs": []
    }
  ]
}